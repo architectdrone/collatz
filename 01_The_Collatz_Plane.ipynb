{
 "cells": [
  {
   "cell_type": "markdown",
   "metadata": {},
   "source": [
    "# The Collatz Plane\n",
    "\n",
    "In my attempts to prove the Collatz conjecture, I invented a new way to think about numbers that I call the Collatz Plane. In this notebook, I will attempt to do three things:\n",
    "\n",
    "- Explain what the Collatz Plane is\n",
    "- Prove some helpful thereoms about the Collatz Plane\n",
    "- Show why the Collatz Plane makes the Collatz conjecture simpler"
   ]
  },
  {
   "cell_type": "markdown",
   "metadata": {},
   "source": [
    "## What is the Collatz Plane?\n",
    "\n",
    "The Collatz Plane is a 2D ordering of integers. Every integer is given exactly one coordinate within this plane. (For the rest of this paper, if I use the variables X and Y, these refer to the coordinate of some integer, and N represents the integer referenced by these coordinates). The equation that relates coordinates to integers is (2^Y)(2X+1) = N. "
   ]
  },
  {
   "cell_type": "code",
   "execution_count": 1,
   "metadata": {},
   "outputs": [
    {
     "name": "stdout",
     "output_type": "stream",
     "text": [
      "^^^^^|^^^^^|^^^^^|^^^^^|^^^^^|^^^^^|^^^^^|^^^^^|^^^^^|^^^^^|^^^^^|^^^^^|^^^^^|^^^^^|^^^^^|^^^^^|^^^^^|^^^^^|^^^^^|^^^^^|\n",
      "^^^^^|^^^^^|^^^^^|^^^^^|^^^^^|^^^^^|^^^^^|^^^^^|^^^^^|^^^^^|^^^^^|^^^^^|^^^^^|^^^^^|^^^^^|^^^^^|^^^^^|^^^^^|^^^^^|^^^^^|\n",
      "^^^^^|^^^^^|^^^^^|^^^^^|^^^^^|^^^^^|^^^^^|^^^^^|^^^^^|^^^^^|^^^^^|^^^^^|^^^^^|^^^^^|^^^^^|^^^^^|^^^^^|^^^^^|^^^^^|^^^^^|\n",
      "65536|^^^^^|^^^^^|^^^^^|^^^^^|^^^^^|^^^^^|^^^^^|^^^^^|^^^^^|^^^^^|^^^^^|^^^^^|^^^^^|^^^^^|^^^^^|^^^^^|^^^^^|^^^^^|^^^^^|\n",
      "32768|98304|^^^^^|^^^^^|^^^^^|^^^^^|^^^^^|^^^^^|^^^^^|^^^^^|^^^^^|^^^^^|^^^^^|^^^^^|^^^^^|^^^^^|^^^^^|^^^^^|^^^^^|^^^^^|\n",
      "16384|49152|81920|^^^^^|^^^^^|^^^^^|^^^^^|^^^^^|^^^^^|^^^^^|^^^^^|^^^^^|^^^^^|^^^^^|^^^^^|^^^^^|^^^^^|^^^^^|^^^^^|^^^^^|\n",
      " 8192|24576|40960|57344|73728|90112|^^^^^|^^^^^|^^^^^|^^^^^|^^^^^|^^^^^|^^^^^|^^^^^|^^^^^|^^^^^|^^^^^|^^^^^|^^^^^|^^^^^|\n",
      " 4096|12288|20480|28672|36864|45056|53248|61440|69632|77824|86016|94208|^^^^^|^^^^^|^^^^^|^^^^^|^^^^^|^^^^^|^^^^^|^^^^^|\n",
      " 2048| 6144|10240|14336|18432|22528|26624|30720|34816|38912|43008|47104|51200|55296|59392|63488|67584|71680|75776|79872|\n",
      " 1024| 3072| 5120| 7168| 9216|11264|13312|15360|17408|19456|21504|23552|25600|27648|29696|31744|33792|35840|37888|39936|\n",
      "  512| 1536| 2560| 3584| 4608| 5632| 6656| 7680| 8704| 9728|10752|11776|12800|13824|14848|15872|16896|17920|18944|19968|\n",
      "  256|  768| 1280| 1792| 2304| 2816| 3328| 3840| 4352| 4864| 5376| 5888| 6400| 6912| 7424| 7936| 8448| 8960| 9472| 9984|\n",
      "  128|  384|  640|  896| 1152| 1408| 1664| 1920| 2176| 2432| 2688| 2944| 3200| 3456| 3712| 3968| 4224| 4480| 4736| 4992|\n",
      "   64|  192|  320|  448|  576|  704|  832|  960| 1088| 1216| 1344| 1472| 1600| 1728| 1856| 1984| 2112| 2240| 2368| 2496|\n",
      "   32|   96|  160|  224|  288|  352|  416|  480|  544|  608|  672|  736|  800|  864|  928|  992| 1056| 1120| 1184| 1248|\n",
      "   16|   48|   80|  112|  144|  176|  208|  240|  272|  304|  336|  368|  400|  432|  464|  496|  528|  560|  592|  624|\n",
      "    8|   24|   40|   56|   72|   88|  104|  120|  136|  152|  168|  184|  200|  216|  232|  248|  264|  280|  296|  312|\n",
      "    4|   12|   20|   28|   36|   44|   52|   60|   68|   76|   84|   92|  100|  108|  116|  124|  132|  140|  148|  156|\n",
      "    2|    6|   10|   14|   18|   22|   26|   30|   34|   38|   42|   46|   50|   54|   58|   62|   66|   70|   74|   78|\n",
      "    1|    3|    5|    7|    9|   11|   13|   15|   17|   19|   21|   23|   25|   27|   29|   31|   33|   35|   37|   39|\n"
     ]
    }
   ],
   "source": [
    "x_size = 20\n",
    "y_size = 20\n",
    "cell_size = 5\n",
    "\n",
    "def padNumber(num):\n",
    "    global cell_size\n",
    "    number = num\n",
    "    numberLength = len(str(number))\n",
    "    if (numberLength > cell_size):\n",
    "        return \"^\"*cell_size\n",
    "    numberOfSpaces = cell_size - numberLength\n",
    "    return \" \"*numberOfSpaces+str(number)\n",
    "\n",
    "def printGrid():\n",
    "    global x_size, y_size, cell_size\n",
    "    for y in reversed(range(y_size)):\n",
    "        for x in range(x_size):\n",
    "            theNumber = (2**y)*((2*x)+1)\n",
    "            print(padNumber(theNumber)+\"|\", end = \"\")\n",
    "        print(\"\")\n",
    "\n",
    "printGrid()"
   ]
  },
  {
   "cell_type": "markdown",
   "metadata": {},
   "source": [
    "You might be able to tell that all odd numbers reside on the X axis. The Y axis are powers of 2."
   ]
  },
  {
   "cell_type": "markdown",
   "metadata": {},
   "source": [
    "## Simplifying the Collatz Conjecture with the Collatz Plane\n",
    "\n",
    "The biggest simplification that the Collatz Plane offers is that all numbers (X, Y) where Y > 0 connect, using the Collatz function, to (X, 0). The proof for this is trivial. As a result, if any number (X, Y) connects to (0, 0), all numbers (X, a) where a > 0 also connect to (0, 0).\n",
    "\n",
    "**Definition** If a number (X, Y) connects to (0, 0), we will say that this number is *Proven*.\n",
    "\n",
    "**Definition** The function that connects numbers in the Collatz Conjecture is the *Collatz Function*, aka *C(n)* or *C(X, Y)*. The result of this function is a set of all numbers in the chain containing (X, Y).\n",
    "\n",
    "**Thereom 1** (X, 0) is in C(X, Y).\n",
    "\n",
    "**Thereom 2** If (X, Y) is Proven, (X, a), where a is any real number, is Proven.\n",
    "\n",
    "**Definition** If all of the numbers in an X axis are Proven (such as in Thereom 2), this axis is a *Proven Axis*."
   ]
  },
  {
   "cell_type": "code",
   "execution_count": null,
   "metadata": {},
   "outputs": [],
   "source": []
  }
 ],
 "metadata": {
  "kernelspec": {
   "display_name": "Python 3",
   "language": "python",
   "name": "python3"
  },
  "language_info": {
   "codemirror_mode": {
    "name": "ipython",
    "version": 3
   },
   "file_extension": ".py",
   "mimetype": "text/x-python",
   "name": "python",
   "nbconvert_exporter": "python",
   "pygments_lexer": "ipython3",
   "version": "3.7.3"
  }
 },
 "nbformat": 4,
 "nbformat_minor": 2
}
