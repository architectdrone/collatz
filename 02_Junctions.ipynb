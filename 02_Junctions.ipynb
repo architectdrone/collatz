{
 "cells": [
  {
   "cell_type": "markdown",
   "metadata": {},
   "source": [
    "# Junctions\n",
    "\n",
    "The Collatz Function only connects a number to exactly one other number. However, a single number can be connected to by either one or two other numbers. All numbers are connected to by the rule \"if even, divide by two\", because all numbers can be multipled by 2. However, not all numbers are connected to by the rule \"if odd, multiply by 3 and add 1\", because the equation (n-1)/3 is not always an integer, nor is the result always odd. However, some numbers do have this property.\n",
    "\n",
    "**Definition** If a number is connected to by exactly two other numbers, this number is a *Junction*.\n",
    "\n",
    "**Thereom 3** All Junctions can be represented in the form 6a+4, where a is any positive integer.\n",
    "\n",
    "*Proof*\n",
    "\n",
    "1. If m is odd, then C(m) = 3m+1 (Definition of Collatz Function)\n",
    "2. If C(m) = n, then m = (n-1)/3\n",
    "3. All odd numbers can be represented in the form 2a+1.\n",
    "4. By 2 and 3, if n is a junction, (n-1)/3 = 2a+1\n",
    "5. By 4, n = 6a+4\n",
    "\n",
    "    1. $\\frac{n-1}{3} = 2a+1$\n",
    "    2. $n-1 = 6a+3$\n",
    "    3. $n = 6a+4$\n",
    "\n"
   ]
  },
  {
   "cell_type": "code",
   "execution_count": 1,
   "metadata": {},
   "outputs": [
    {
     "name": "stdout",
     "output_type": "stream",
     "text": [
      "[4, 10, 16, 22, 28, 34, 40, 46, 52, 58, 64, 70, 76, 82, 88, 94, 100, 106, 112, 118, 124, 130, 136, 142, 148, 154, 160, 166, 172, 178]\n"
     ]
    }
   ],
   "source": [
    "def junction(a):\n",
    "    return (6*a)+4\n",
    "\n",
    "print([junction(i) for i in range(30)])"
   ]
  },
  {
   "cell_type": "markdown",
   "metadata": {},
   "source": [
    "Junctions are spaced fairly regularly in the Collatz Plane."
   ]
  },
  {
   "cell_type": "code",
   "execution_count": 4,
   "metadata": {},
   "outputs": [
    {
     "name": "stdout",
     "output_type": "stream",
     "text": [
      "Junctions are marked with asteriks.\n",
      "^^^^^|^^^^^|*****|^^^^^|^^^^^|*****|^^^^^|^^^^^|*****|^^^^^|^^^^^|*****|^^^^^|^^^^^|*****|^^^^^|^^^^^|*****|^^^^^|^^^^^|\n",
      "*****|^^^^^|^^^^^|*****|^^^^^|^^^^^|*****|^^^^^|^^^^^|*****|^^^^^|^^^^^|*****|^^^^^|^^^^^|*****|^^^^^|^^^^^|*****|^^^^^|\n",
      "^^^^^|^^^^^|*****|^^^^^|^^^^^|*****|^^^^^|^^^^^|*****|^^^^^|^^^^^|*****|^^^^^|^^^^^|*****|^^^^^|^^^^^|*****|^^^^^|^^^^^|\n",
      "*****|^^^^^|^^^^^|*****|^^^^^|^^^^^|*****|^^^^^|^^^^^|*****|^^^^^|^^^^^|*****|^^^^^|^^^^^|*****|^^^^^|^^^^^|*****|^^^^^|\n",
      "32768|98304|*****|^^^^^|^^^^^|*****|^^^^^|^^^^^|*****|^^^^^|^^^^^|*****|^^^^^|^^^^^|*****|^^^^^|^^^^^|*****|^^^^^|^^^^^|\n",
      "*****|49152|81920|*****|^^^^^|^^^^^|*****|^^^^^|^^^^^|*****|^^^^^|^^^^^|*****|^^^^^|^^^^^|*****|^^^^^|^^^^^|*****|^^^^^|\n",
      " 8192|24576|*****|57344|73728|*****|^^^^^|^^^^^|*****|^^^^^|^^^^^|*****|^^^^^|^^^^^|*****|^^^^^|^^^^^|*****|^^^^^|^^^^^|\n",
      "*****|12288|20480|*****|36864|45056|*****|61440|69632|*****|86016|94208|*****|^^^^^|^^^^^|*****|^^^^^|^^^^^|*****|^^^^^|\n",
      " 2048| 6144|*****|14336|18432|*****|26624|30720|*****|38912|43008|*****|51200|55296|*****|63488|67584|*****|75776|79872|\n",
      "*****| 3072| 5120|*****| 9216|11264|*****|15360|17408|*****|21504|23552|*****|27648|29696|*****|33792|35840|*****|39936|\n",
      "  512| 1536|*****| 3584| 4608|*****| 6656| 7680|*****| 9728|10752|*****|12800|13824|*****|15872|16896|*****|18944|19968|\n",
      "*****|  768| 1280|*****| 2304| 2816|*****| 3840| 4352|*****| 5376| 5888|*****| 6912| 7424|*****| 8448| 8960|*****| 9984|\n",
      "  128|  384|*****|  896| 1152|*****| 1664| 1920|*****| 2432| 2688|*****| 3200| 3456|*****| 3968| 4224|*****| 4736| 4992|\n",
      "*****|  192|  320|*****|  576|  704|*****|  960| 1088|*****| 1344| 1472|*****| 1728| 1856|*****| 2112| 2240|*****| 2496|\n",
      "   32|   96|*****|  224|  288|*****|  416|  480|*****|  608|  672|*****|  800|  864|*****|  992| 1056|*****| 1184| 1248|\n",
      "*****|   48|   80|*****|  144|  176|*****|  240|  272|*****|  336|  368|*****|  432|  464|*****|  528|  560|*****|  624|\n",
      "    8|   24|*****|   56|   72|*****|  104|  120|*****|  152|  168|*****|  200|  216|*****|  248|  264|*****|  296|  312|\n",
      "*****|   12|   20|*****|   36|   44|*****|   60|   68|*****|   84|   92|*****|  108|  116|*****|  132|  140|*****|  156|\n",
      "    2|    6|*****|   14|   18|*****|   26|   30|*****|   38|   42|*****|   50|   54|*****|   62|   66|*****|   74|   78|\n",
      "    1|    3|    5|    7|    9|   11|   13|   15|   17|   19|   21|   23|   25|   27|   29|   31|   33|   35|   37|   39|\n"
     ]
    }
   ],
   "source": [
    "x_size = 20\n",
    "y_size = 20\n",
    "cell_size = 5\n",
    "\n",
    "def isJunction(num):\n",
    "    return ((num-4)/6)%1 == 0\n",
    "\n",
    "def padNumber(num):\n",
    "    global cell_size\n",
    "    number = num\n",
    "    numberLength = len(str(number))\n",
    "    if isJunction(num):\n",
    "        return \"*\"*cell_size\n",
    "    if (numberLength > cell_size):\n",
    "        return \"^\"*cell_size\n",
    "    numberOfSpaces = cell_size - numberLength\n",
    "    return \" \"*numberOfSpaces+str(number)\n",
    "\n",
    "def printGrid():\n",
    "    global x_size, y_size, cell_size\n",
    "    for y in reversed(range(y_size)):\n",
    "        for x in range(x_size):\n",
    "            theNumber = (2**y)*((2*x)+1)\n",
    "            print(padNumber(theNumber)+\"|\", end = \"\")\n",
    "        print(\"\")\n",
    "\n",
    "print(\"Junctions are marked with asteriks.\")\n",
    "printGrid()"
   ]
  },
  {
   "cell_type": "markdown",
   "metadata": {},
   "source": [
    "**Thereom 4** If (X, Y) is Junction a, (X, Y+2) is Junction 4a+3.\n",
    "\n",
    "*Proof*\n",
    "\n",
    "1. $6a+4=2^{Y}(2X+1)$\n",
    "2. If (X, Y+2) is Junction b, then $6b+4=2^{Y+2}(2X+1)$\n",
    "3. \n",
    "\n",
    "    1. $6b+4=2^{Y+2}(2X+1)$\n",
    "    2. $6b+4=2^{2}2^{Y}(2X+1)$\n",
    "    3. $\\frac{1}{4}(6b+4) = 2^{Y}(2X+1)$\n",
    "4. \n",
    "\n",
    "    1. $\\frac{1}{4}(6b+4) = 6a+4$\n",
    "    2. $6b+4 = 24a+16$\n",
    "    3. $6b = 24a+12$\n",
    "    4. $b = 4a+3$\n",
    "5. b is an integer if a is an integer, therefore, both are Junctions.\n",
    "\n",
    "**Thereom 5** If (X, Y) is Junction a, then (X+3, Y) is Junction $a+2^{Y}$\n",
    "\n",
    "*Proof*\n",
    "\n",
    "1. $6a+4=2^{Y}(2X+1)$\n",
    "2. If (X+3, Y) is Junction b, then $6b+4=2^{Y}(2(X+3)+1)$\n",
    "3. \n",
    "    1. $6b+4 = 2^{Y}(2X+1)+6*2^{Y}$\n",
    "    2. $6b+4-6*2^{Y} = 2^{Y}(2X+1)$\n",
    "4. \n",
    "    1. $6b+4-6*2^{Y} = 6a+4$\n",
    "    2. $6b-6*2^{Y} = 6a$\n",
    "    3. $b-2^{Y} = a$\n",
    "    4. $b = a+2^{Y}$\n",
    "\n",
    "But which junctions connect where?\n",
    "\n",
    "**Thereom 6** If No = (P, Q) is the junction with the smallest Y coordinate in the axis P, then $\\frac{2^{2b}(No)-4}{6}$, where b is any positive integer, gives all of the axises connected to by junctions in axis P.\n",
    "\n",
    "*Proof*\n",
    "\n",
    "1. The coordinates of all junctions in axis P can be represented as (P, Q+2b)\n",
    "2. The values at these junctions is given by $N = 2^{Q+2b}(2P+1)$\n",
    "    1. $N = 2^{Q+2b}(2P+1)$\n",
    "    2. $N = 2^{2b}2^{Q}(2P+1)$\n",
    "    3. $N = 2^{2b}No$\n",
    "3. The values of numbers connected to these numbers is given by $C = \\frac{N-1}{3}$\n",
    "    1. $C = \\frac{(2^{2b}No)-1}{3}$\n",
    "4. The Y Coordinates of those connected to is 0, because they must be odd.\n",
    "5. The X Coordinates of those connected to can be given as $2X+1 = C$.\n",
    "    1. $2X+1 = \\frac{(2^{2b}No)-1}{3}$\n",
    "    2. $2X = \\frac{(2^{2b}No)-4}{3}$\n",
    "    3. $X = \\frac{(2^{2b}No)-4}{6}$\n",
    "\n",
    "**Thereom 7** If X%3 == 0, (X, 2) is the junction with the smallest Y. \n",
    "\n",
    "**Thereom 8** If X%3 == 2, (X, 1) is the junction with the smallest Y.\n",
    "\n",
    "**Thereom 9** For some axis X, if X%3 == 0, The value of the junction with the smallest Y is 4(2X+1).\n",
    "\n",
    "*Proof*\n",
    "\n",
    "1. The smallest junction is (X, 2) (Thereom 7)\n",
    "2. $2^{2}(2X+1) = 4(2X+1)$\n",
    "\n",
    "**Thereom 10** For some axis X, if X%3 == 2, The value of the junction with the smallest Y is 2(2X+1).\n",
    "\n",
    "*Proof*\n",
    "\n",
    "1. The smallest junction is (X, 1) (Thereom 8)\n",
    "2. $2^{1}(2X+1) = 2(2X+1)$\n",
    "\n",
    "**Thereom 11** The set of all axises that connect to some axis X is given by $\\{ \\begin{array}{lr} \\frac{2^{2b}4(2X+1)-4}{6} & x\\%3 == 0 \\\\ None & x\\%3 == 1 \\\\ \\frac{2^{2b}2(2X+1)-4}{6} & x\\%3 == 2 \\end{array}$"
   ]
  },
  {
   "cell_type": "code",
   "execution_count": 18,
   "metadata": {},
   "outputs": [
    {
     "name": "stdout",
     "output_type": "stream",
     "text": [
      "[1.0, 6.0, 26.0, 106.0, 426.0, 1706.0, 6826.0, 27306.0, 109226.0, 436906.0, 1747626.0, 6990506.0, 27962026.0, 111848106.0, 447392426.0, 1789569706.0, 7158278826.0, 28633115306.0, 114532461226.0, 458129844906.0, 1832519379626.0, 7330077518506.0, 29320310074026.0, 117281240296106.0, 469124961184426.0, 1876499844737706.0, 7505999378950826.0, 3.0023997515803304e+16, 1.2009599006321323e+17, 4.803839602528529e+17]\n"
     ]
    }
   ],
   "source": [
    "def connecting_axises(x, b):\n",
    "    if x % 3 == 0:\n",
    "        return (((2**(2*b))*4*((2*x)+1))-4)/6\n",
    "    elif x%3 == 1:\n",
    "        return None\n",
    "    else:\n",
    "        return (((2**(2*b))*2*((2*x)+1))-4)/6\n",
    "\n",
    "print([connecting_axises(2, i) for i in range(30)])"
   ]
  },
  {
   "cell_type": "code",
   "execution_count": null,
   "metadata": {},
   "outputs": [],
   "source": []
  }
 ],
 "metadata": {
  "kernelspec": {
   "display_name": "'Python Interactive'",
   "language": "python",
   "name": "cb60436b-1a18-43b8-82a0-5a9c11c50d7c"
  },
  "language_info": {
   "codemirror_mode": {
    "name": "ipython",
    "version": 3
   },
   "file_extension": ".py",
   "mimetype": "text/x-python",
   "name": "python",
   "nbconvert_exporter": "python",
   "pygments_lexer": "ipython3",
   "version": "3.7.3"
  }
 },
 "nbformat": 4,
 "nbformat_minor": 2
}
