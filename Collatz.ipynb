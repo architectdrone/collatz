{
 "cells": [
  {
   "cell_type": "markdown",
   "metadata": {},
   "source": [
    "# OWEN'S SECOND COLLATZ PROGRAM\n",
    "I have based this off of the idea that if the CC is proven for all odd numbers, it is proven for all even numbers. \n",
    "The integer plane has odd numbers along it's X axis, and Even numbers along it's Y axis. \n",
    "\n",
    "Setup: For all Y > 0, (X(n), Y(n)) = (X(n-1), 2\\*Y(n-1))\n",
    "\n",
    "The origin is at (0,0), which is 1.\n",
    "\n",
    "    | 8 | 24 | 40 | 56 |\n",
    "    | 4 | 12 | 20 | 28 |\n",
    "    | 2 | 6  | 10 | 14 |\n",
    "    | 1 | 3  | 5  | 7  |\n",
    "\n",
    "Thus, if a coordinate has a Y coordinate > 0, the coordinate \"falls\" to (X(n), 0). The goal is to find a pattern in the movements between odd numbers. (Numbers in the X-Axis)\n"
   ]
  },
  {
   "cell_type": "code",
   "execution_count": 2,
   "metadata": {
    "collapsed": true
   },
   "outputs": [],
   "source": [
    "def isOdd(number):\n",
    "    if (number%2 == 1): \n",
    "        return True\n",
    "    else:\n",
    "        return False\n",
    "\n",
    "def getXY(number):\n",
    "    X = number\n",
    "    Y = 0\n",
    "    while True:\n",
    "        if (isOdd(X)):\n",
    "            return (int((X-1)/2), Y)\n",
    "        else:\n",
    "            X = X / 2\n",
    "            Y+=1\n",
    "\n",
    "def getNumber(coordinate):\n",
    "    return (2**coordinate[1])*((2*(coordinate[0])+1))\n"
   ]
  },
  {
   "cell_type": "code",
   "execution_count": 3,
   "metadata": {},
   "outputs": [
    {
     "name": "stdout",
     "output_type": "stream",
     "text": [
      "X 1 Y 2 N 12\n",
      "X 1 Y 2 N 12\n"
     ]
    }
   ],
   "source": [
    "# Centralized class for automatically converting between coordinates and numbers\n",
    "\n",
    "class Number():\n",
    "    def __init__(self, a, b = None):\n",
    "        if b != None:\n",
    "            self.x = a\n",
    "            self.y = b\n",
    "            self.n = (2**b)*((2*a)+1)\n",
    "            assert self.n > 0\n",
    "            assert b >= 0, \"Negative\"\n",
    "        else:\n",
    "            self.x = -1\n",
    "            self.y = -1\n",
    "            self.n = a\n",
    "        assert a >= 0, \"Negative\"\n",
    "        \n",
    "    \n",
    "    def X(self):\n",
    "        if self.x != -1:\n",
    "            return self.x\n",
    "        else:\n",
    "            self._getCoords()\n",
    "            return self.x\n",
    "    \n",
    "    def Y(self):\n",
    "        if self.y != -1:\n",
    "            return self.y\n",
    "        else:\n",
    "            self._getCoords()\n",
    "            return self.y\n",
    "    \n",
    "    def N(self):\n",
    "        return self.n\n",
    "    \n",
    "    def collatzNext(self):\n",
    "        if (self.n % 2 == 1):\n",
    "            return 3*self.n+1\n",
    "        else:\n",
    "            return self.n/2\n",
    "    \n",
    "    def collatzPrevEven(self):\n",
    "        return self.n*2\n",
    "    \n",
    "    def collatzPrevOdd(self):\n",
    "        a = (self.n - 1)/3\n",
    "        if (a%1 == 0) and isOdd(a):\n",
    "            return int(a)\n",
    "        else:\n",
    "            assert False, \"No Odd Prev\"\n",
    "    \n",
    "    def isJunction(self):\n",
    "        try:\n",
    "            self.collatzPrevOdd()\n",
    "            return True\n",
    "        except:\n",
    "            return False\n",
    "    \n",
    "    def __str__(self):\n",
    "        return str(self.n)\n",
    "    \n",
    "    def __repr__(self):\n",
    "        return str(self.n)\n",
    "    \n",
    "    def _getCoords(self):\n",
    "        if self.n == 1 or self.n == 0:\n",
    "            self.x = 0\n",
    "            self.y = 0\n",
    "            return\n",
    "        X = self.n\n",
    "        Y = 0\n",
    "        while True:\n",
    "            if (isOdd(X)):\n",
    "                self.x = (int((X-1)/2))\n",
    "                self.y = Y\n",
    "                break\n",
    "            else:\n",
    "                X = X / 2\n",
    "                Y+=1\n",
    "        return\n",
    "\n",
    "a = Number(12)\n",
    "b = Number(1, 2)\n",
    "print(\"X\", a.X(), \"Y\", a.Y(), \"N\", a.N())\n",
    "print(\"X\", b.X(), \"Y\", b.Y(), \"N\", b.N())\n"
   ]
  },
  {
   "cell_type": "code",
   "execution_count": 4,
   "metadata": {},
   "outputs": [
    {
     "name": "stdout",
     "output_type": "stream",
     "text": [
      "(0, 3)\n",
      "8\n"
     ]
    }
   ],
   "source": [
    "#Example\n",
    "a = getXY(8)\n",
    "b = getNumber(a)\n",
    "print(a)\n",
    "print(b)"
   ]
  },
  {
   "cell_type": "code",
   "execution_count": null,
   "metadata": {},
   "outputs": [],
   "source": [
    "#Here's what a more complete grid looks like\n",
    "x_size = 20\n",
    "y_size = 20\n",
    "cell_size = 5\n",
    "\n",
    "def padNumber(num):\n",
    "    global cell_size\n",
    "    number = num.N()\n",
    "    numberLength = len(str(number))\n",
    "    if (numberLength > cell_size):\n",
    "        return \"^\"*cell_size\n",
    "    numberOfSpaces = cell_size - numberLength\n",
    "    return \" \"*numberOfSpaces+str(number)\n",
    "\n",
    "def printGrid():\n",
    "    global x_size, y_size, cell_size\n",
    "    for y in reversed(range(y_size)):\n",
    "        for x in range(x_size):\n",
    "            theNumber = Number(x, y)\n",
    "            print(padNumber(theNumber)+\"|\", end = \"\")\n",
    "        print(\"\")\n",
    "\n",
    "printGrid()"
   ]
  },
  {
   "cell_type": "markdown",
   "metadata": {},
   "source": [
    "# Junctions\n",
    "\n",
    "Every number in the Collatz Plane points to exactly one other number, but a single number can be pointed to by either one or two numbers. Let's define some terminology:\n",
    "\n",
    "* The number we are looking at is a _parent_\n",
    "* The number that the parent points to is a _child_\n",
    "* The number(s) that points to the parent are it's _grandparents_\n",
    "\n",
    "\n",
    "1. Since all numbers are either even or odd, and one routing rule exists for odd numbers, and one routing rule exists for even numbers, all parents have exactly one child.\n",
    "2. Since any number can be multiplied by 2, every parent has one even gradparent.\n",
    "3. There exist a set of numbers such that (n-1)/3 is a whole number, and thus some parents have odd grandparents.\n",
    "\n",
    "A parent that has two grandparents is a _junction_."
   ]
  },
  {
   "cell_type": "code",
   "execution_count": 11,
   "metadata": {},
   "outputs": [
    {
     "name": "stdout",
     "output_type": "stream",
     "text": [
      "True\n",
      "False\n"
     ]
    }
   ],
   "source": [
    "def isJunction(number):\n",
    "    a = ((number-1)/3)\n",
    "    if a%1 == 0 and isOdd(a):\n",
    "        return True\n",
    "    else:\n",
    "        return False\n",
    "\n",
    "# All Number Class Instances have an isJunction method.\n",
    "\n",
    "print(isJunction(10))\n",
    "print(isJunction(8))"
   ]
  },
  {
   "cell_type": "code",
   "execution_count": 7,
   "metadata": {},
   "outputs": [
    {
     "data": {
      "text/plain": [
       "[0, 0, 3, 2, 6, 0, 9, 5, 12, 3, 15, 8, 18, 2, 21, 11, 24, 6, 27, 14]"
      ]
     },
     "execution_count": 7,
     "metadata": {},
     "output_type": "execute_result"
    }
   ],
   "source": [
    "# Let's correllate junctions to thier X-positions\n",
    "\n",
    "def getListOfJunctionXs(numberOfJunctionXs):\n",
    "    junctions = getListOfJunctions(numberOfJunctionXs)\n",
    "    toReturn = []\n",
    "    for i in junctions:\n",
    "        theNumber = Number(i.X())\n",
    "        toReturn.append(theNumber)\n",
    "    return toReturn\n",
    "\n",
    "getListOfJunctionXs(20)"
   ]
  },
  {
   "cell_type": "code",
   "execution_count": 8,
   "metadata": {},
   "outputs": [
    {
     "name": "stdout",
     "output_type": "stream",
     "text": [
      "^^^^^|^^^^^|*^^^^|^^^^^|^^^^^|*^^^^|^^^^^|^^^^^|*^^^^|^^^^^|^^^^^|*^^^^|^^^^^|^^^^^|*^^^^|^^^^^|^^^^^|*^^^^|^^^^^|^^^^^|\n",
      "*^^^^|^^^^^|^^^^^|*^^^^|^^^^^|^^^^^|*^^^^|^^^^^|^^^^^|*^^^^|^^^^^|^^^^^|*^^^^|^^^^^|^^^^^|*^^^^|^^^^^|^^^^^|*^^^^|^^^^^|\n",
      "^^^^^|^^^^^|*^^^^|^^^^^|^^^^^|*^^^^|^^^^^|^^^^^|*^^^^|^^^^^|^^^^^|*^^^^|^^^^^|^^^^^|*^^^^|^^^^^|^^^^^|*^^^^|^^^^^|^^^^^|\n",
      "*^^^^|^^^^^|^^^^^|*^^^^|^^^^^|^^^^^|*^^^^|^^^^^|^^^^^|*^^^^|^^^^^|^^^^^|*^^^^|^^^^^|^^^^^|*^^^^|^^^^^|^^^^^|*^^^^|^^^^^|\n",
      "32768|98304|*^^^^|^^^^^|^^^^^|*^^^^|^^^^^|^^^^^|*^^^^|^^^^^|^^^^^|*^^^^|^^^^^|^^^^^|*^^^^|^^^^^|^^^^^|*^^^^|^^^^^|^^^^^|\n",
      "*^^^^|49152|81920|*^^^^|^^^^^|^^^^^|*^^^^|^^^^^|^^^^^|*^^^^|^^^^^|^^^^^|*^^^^|^^^^^|^^^^^|*^^^^|^^^^^|^^^^^|*^^^^|^^^^^|\n",
      " 8192|24576|*^^^^|57344|73728|*^^^^|^^^^^|^^^^^|*^^^^|^^^^^|^^^^^|*^^^^|^^^^^|^^^^^|*^^^^|^^^^^|^^^^^|*^^^^|^^^^^|^^^^^|\n",
      "*4096|12288|20480|*^^^^|36864|45056|*^^^^|61440|69632|*^^^^|86016|94208|*^^^^|^^^^^|^^^^^|*^^^^|^^^^^|^^^^^|*^^^^|^^^^^|\n",
      " 2048| 6144|*^^^^|14336|18432|*^^^^|26624|30720|*^^^^|38912|43008|*^^^^|51200|55296|*^^^^|63488|67584|*^^^^|75776|79872|\n",
      "*1024| 3072| 5120|*7168| 9216|11264|*^^^^|15360|17408|*^^^^|21504|23552|*^^^^|27648|29696|*^^^^|33792|35840|*^^^^|39936|\n",
      "  512| 1536|*2560| 3584| 4608|*5632| 6656| 7680|*8704| 9728|10752|*^^^^|12800|13824|*^^^^|15872|16896|*^^^^|18944|19968|\n",
      "* 256|  768| 1280|*1792| 2304| 2816|*3328| 3840| 4352|*4864| 5376| 5888|*6400| 6912| 7424|*7936| 8448| 8960|*9472| 9984|\n",
      "  128|  384|* 640|  896| 1152|*1408| 1664| 1920|*2176| 2432| 2688|*2944| 3200| 3456|*3712| 3968| 4224|*4480| 4736| 4992|\n",
      "*  64|  192|  320|* 448|  576|  704|* 832|  960| 1088|*1216| 1344| 1472|*1600| 1728| 1856|*1984| 2112| 2240|*2368| 2496|\n",
      "   32|   96|* 160|  224|  288|* 352|  416|  480|* 544|  608|  672|* 736|  800|  864|* 928|  992| 1056|*1120| 1184| 1248|\n",
      "*  16|   48|   80|* 112|  144|  176|* 208|  240|  272|* 304|  336|  368|* 400|  432|  464|* 496|  528|  560|* 592|  624|\n",
      "    8|   24|*  40|   56|   72|*  88|  104|  120|* 136|  152|  168|* 184|  200|  216|* 232|  248|  264|* 280|  296|  312|\n",
      "*   4|   12|   20|*  28|   36|   44|*  52|   60|   68|*  76|   84|   92|* 100|  108|  116|* 124|  132|  140|* 148|  156|\n",
      "    2|    6|*  10|   14|   18|*  22|   26|   30|*  34|   38|   42|*  46|   50|   54|*  58|   62|   66|*  70|   74|   78|\n",
      "    1|    3|    5|    7|    9|   11|   13|   15|   17|   19|   21|   23|   25|   27|   29|   31|   33|   35|   37|   39|\n"
     ]
    }
   ],
   "source": [
    "#Let's create a new graph which displays junctions\n",
    "\n",
    "x_size = 20\n",
    "y_size = 20\n",
    "cell_size = 5\n",
    "\n",
    "def padNumberJunction(number):\n",
    "    global cell_size\n",
    "    numberLength = len(str(number))\n",
    "    numberOfSpaces = cell_size - numberLength\n",
    "    \n",
    "    if (number.isJunction()):\n",
    "        if (numberLength > cell_size-1):\n",
    "            return \"*\"+\"^\"*(cell_size-1)\n",
    "        else:\n",
    "            return \"*\"+\" \"*(numberOfSpaces-1)+str(number)\n",
    "    if (numberLength > cell_size):\n",
    "        return \"^\"*cell_size\n",
    "    return \" \"*numberOfSpaces+str(number)\n",
    "\n",
    "def printGridJunction():\n",
    "    global x_size, y_size, cell_size\n",
    "    for y in reversed(range(y_size)):\n",
    "        for x in range(x_size):\n",
    "            theNumber = Number(x, y)\n",
    "            print(padNumberJunction(theNumber)+\"|\", end = \"\")\n",
    "        print(\"\")\n",
    "\n",
    "printGridJunction()"
   ]
  },
  {
   "cell_type": "markdown",
   "metadata": {},
   "source": [
    "From the above, we can make several immediate observations:\n",
    "\n",
    "1. No junctions are a multiple of three. This makes sense because if a number is a multiple of three, and one is subtracted from that number, it can no longer be a multiple of three. Our test for being a junction is that if a number minus one is divisible by three it is a junction, since this can never be true of a multiple of three, no multiple of three can be a junction.\n",
    "2. If (A, B) is a junction, (A-3, B) and (A+3, B) are both junctions. ((A-2, B), (A-1, B), (A+1, B), and (A+2, B) are NOT junctions)\n",
    "3. If (A, B) is a junction, (A, B+2) and (A, B-2) are both junctions, and neither (A, B+1) or (A, B+1) are junctions.\n",
    "4. If (A, 0) is a junction, (A-1, 1) is a junction."
   ]
  },
  {
   "cell_type": "code",
   "execution_count": 9,
   "metadata": {},
   "outputs": [
    {
     "name": "stdout",
     "output_type": "stream",
     "text": [
      "    Number|   Goes to|   Accepts\n",
      "----------|----------|----------|\n",
      "         0|         0|[0, 2, 10, 42]\n",
      "         1|         2|None\n",
      "         2|         0|[1, 6, 26, 106, 426]\n",
      "         3|         5|[0, 4, 18, 74, 298]\n",
      "         4|         3|None\n",
      "         5|         8|[3, 14, 58, 234, 938]\n",
      "         6|         2|[0, 8, 34, 138, 554]\n",
      "         7|        11|None\n",
      "         8|         6|[5, 22, 90, 362, 1450]\n",
      "         9|        14|[1, 12, 50, 202, 810]\n",
      "        10|         0|None\n"
     ]
    }
   ],
   "source": [
    "#I want to see the Odd Grandparents of all Junctions for a given X.\n",
    "\n",
    "def getOddGrandparents(X, numberOfResults):\n",
    "    if X%3 == 0:\n",
    "        first_junction = Number(X, 0)\n",
    "    elif X%3 == 2:\n",
    "        first_junction = Number(X, 1)\n",
    "    else:\n",
    "        assert False, \"That has no junctions\"\n",
    "    \n",
    "    toReturn = []\n",
    "    for i in range(numberOfResults):\n",
    "        current_junction = Number(first_junction.X(), first_junction.Y()+(2*i))\n",
    "        oddGrandparent   = Number(int((current_junction.N()-1)/3))\n",
    "        if oddGrandparent.N() == 0:\n",
    "            continue\n",
    "        toReturn.append(oddGrandparent)\n",
    "    return toReturn\n",
    "\n",
    "def padOddChart(string, maxSize):\n",
    "    lengthOfString = len(string)\n",
    "    if maxSize < lengthOfString:\n",
    "        return string[0:maxSize-3]+\"...\"\n",
    "    else:\n",
    "        return \" \"*(maxSize-lengthOfString)+string\n",
    "\n",
    "def printOddChart(upto, entries, space = 10):\n",
    "    print(padOddChart(\"Number\", space)+\"|\"+padOddChart(\"Goes to\", space)+\"|\"+padOddChart(\"Accepts\", space))\n",
    "    print((\"-\"*10+\"|\")*3)\n",
    "    for i in range(upto+1):\n",
    "        theNumber = Number(i, 0)\n",
    "        nextNumber = Number(theNumber.collatzNext())\n",
    "        nextX = nextNumber.X()\n",
    "        try:\n",
    "            acceptors = [i.X() for i in getOddGrandparents(theNumber.X(), entries)]\n",
    "        except:\n",
    "            acceptors = \"None\"\n",
    "        print(padOddChart(str(theNumber.X()), space)+\"|\"+padOddChart(str(nextX), space)+\"|\"+str(acceptors))\n",
    "\n",
    "printOddChart(10, 5)"
   ]
  },
  {
   "cell_type": "markdown",
   "metadata": {},
   "source": [
    "After a good deal of eyeballing, I came up with a relationship between an X position and the numbers it accepts. \"X\" is of course the X position that you want to look at, and \"i\" is the number of the acceptor that youwant to retrieve."
   ]
  },
  {
   "cell_type": "code",
   "execution_count": 13,
   "metadata": {},
   "outputs": [
    {
     "data": {
      "text/latex": [
       "\\begin{equation}\n",
       "\\left \\{\n",
       "    \\begin{tabular}{cc|cc}\n",
       "        &  $\\frac{4}{3}x+(2x+1)\\sum_{j=1}^i {2^{2j+1}}$ & $x\\%3 = 0, i \\neq 0 $\\\\\n",
       "        &  $\\frac{4}{3}x$ & $x\\%3 = 0, i = 0$\\\\\n",
       "        &  $(2(\\frac{x+1}{3}-1)+1)+(2x+1)\\sum_{j=1}^i {4^{2j}}$ & $x\\%3 = 2, i \\neq 0 $\\\\\n",
       "        &  $(2(\\frac{x+1}{3}-1)+1)$ & $x\\%3 = 2, i = 0 $\\\\\n",
       "        &  \\emph{Error} & $x\\%3 = 1 $\\\\\n",
       "    \\end{tabular}\n",
       "\\right \\}\n",
       "\\end{equation}\n"
      ],
      "text/plain": [
       "<IPython.core.display.Latex object>"
      ]
     },
     "metadata": {},
     "output_type": "display_data"
    }
   ],
   "source": [
    "%%latex\n",
    "\\begin{equation}\n",
    "\\left \\{\n",
    "    \\begin{tabular}{cc|cc}\n",
    "        &  $\\frac{4}{3}x+(2x+1)\\sum_{j=1}^i {2^{2j+1}}$ & $x\\%3 = 0, i \\neq 0 $\\\\\n",
    "        &  $\\frac{4}{3}x$ & $x\\%3 = 0, i = 0$\\\\\n",
    "        &  $(2(\\frac{x+1}{3}-1)+1)+(2x+1)\\sum_{j=1}^i {4^{2j}}$ & $x\\%3 = 2, i \\neq 0 $\\\\\n",
    "        &  $(2(\\frac{x+1}{3}-1)+1)$ & $x\\%3 = 2, i = 0 $\\\\\n",
    "        &  \\emph{Error} & $x\\%3 = 1 $\\\\\n",
    "    \\end{tabular}\n",
    "\\right \\}\n",
    "\\end{equation}"
   ]
  },
  {
   "cell_type": "markdown",
   "metadata": {},
   "source": [
    "Since the code above doesn't work [(even though it should)](https://nbviewer.jupyter.org/github/ipython/ipython/blob/2.x/examples/Notebook/Display%20System.ipynb#LaTeX) here is what the equation looks like. (I'm not good at LaTeX... I literally learned it to make this equation. Are you hapy? Huh?)"
   ]
  },
  {
   "cell_type": "code",
   "execution_count": 12,
   "metadata": {},
   "outputs": [
    {
     "data": {
      "image/png": "[encoded data removed]",
      "text/plain": [
       "<IPython.core.display.Image object>"
      ]
     },
     "execution_count": 12,
     "metadata": {},
     "output_type": "execute_result"
    }
   ],
   "source": [
    "from IPython.display import Image\n",
    "i = Image(filename='equation.png')\n",
    "i"
   ]
  },
  {
   "cell_type": "markdown",
   "metadata": {},
   "source": [
    "# Horizontal Shifts\n",
    "\n",
    "Quick aside: We know how to find the number result of a vertical shift on the integer plane (multiply or divide by two), but what about a horizontal shift? The answer is actually pretty easy.\n",
    "\n",
    "If we have a number e\\*m, where e is (purely) even and m is (purely) odd, a horizontal shift can be represented as e\\*(m+2), since a horizontal shift is equivalent to incrementing the largest odd factor by 2. Then, we can do:\n",
    "\n",
    "e\\*(m+2)\n",
    "\n",
    "em+2e\n",
    "\n",
    "Of course, this is slightly self-referential because it requires you to know the purely even factor ahead of time, which is just one step from finding the Y coordinate of the number, but it is still nice to have."
   ]
  },
  {
   "cell_type": "code",
   "execution_count": 1,
   "metadata": {},
   "outputs": [],
   "source": [
    "def horizontalShift(e, m, by):\n",
    "    return (e*m)+(e*2*by)\n"
   ]
  },
  {
   "cell_type": "code",
   "execution_count": null,
   "metadata": {},
   "outputs": [],
   "source": []
  }
 ],
 "metadata": {
  "anaconda-cloud": {},
  "kernelspec": {
   "display_name": "'Python Interactive'",
   "language": "python",
   "name": "cb60436b-1a18-43b8-82a0-5a9c11c50d7c"
  },
  "language_info": {
   "codemirror_mode": {
    "name": "ipython",
    "version": 3
   },
   "file_extension": ".py",
   "mimetype": "text/x-python",
   "name": "python",
   "nbconvert_exporter": "python",
   "pygments_lexer": "ipython3",
   "version": "3.7.1"
  }
 },
 "nbformat": 4,
 "nbformat_minor": 1
}
